{
  "cells": [
    {
      "cell_type": "markdown",
      "metadata": {
        "id": "z3LFQjrYzeeK"
      },
      "source": [
        "\n",
        "\n",
        "<a href=\"https://colab.research.google.com/github/rctejon/linear-regression-quiz/blob/master/quiz3.ipynb\" target=\"_parent\"><img src=\"https://colab.research.google.com/assets/colab-badge.svg\" alt=\"Open In Colab\"/></a>"
      ]
    },
    {
      "cell_type": "code",
      "execution_count": 2,
      "metadata": {
        "id": "QDn89RJazeeO"
      },
      "outputs": [],
      "source": [
        "import numpy as np\n",
        "import pandas as pd\n",
        "\n",
        "from sklearn.model_selection import train_test_split\n",
        "from sklearn.preprocessing import StandardScaler\n",
        "from sklearn.linear_model import LinearRegression, SGDRegressor\n",
        "from sklearn.metrics import mean_squared_error, mean_absolute_error\n",
        "\n",
        "import matplotlib.pyplot as plt\n",
        "import seaborn as sns\n",
        "\n",
        "from pandas_profiling import ProfileReport"
      ]
    },
    {
      "cell_type": "markdown",
      "metadata": {
        "id": "seYy4DzTzeeQ"
      },
      "source": [
        "### Reading the dataset"
      ]
    },
    {
      "cell_type": "code",
      "execution_count": 3,
      "metadata": {
        "id": "1-kJ7bxJzeeQ"
      },
      "outputs": [],
      "source": [
        "medical_df = pd.read_csv('https://raw.githubusercontent.com/rctejon/linear-regression-quiz/master/data/medical.csv', sep = ',')"
      ]
    },
    {
      "cell_type": "code",
      "execution_count": 4,
      "metadata": {
        "id": "VNP96qF_zeeQ",
        "colab": {
          "base_uri": "https://localhost:8080/"
        },
        "outputId": "d2447349-7761-4977-843e-0fe032bbc713"
      },
      "outputs": [
        {
          "output_type": "execute_result",
          "data": {
            "text/plain": [
              "(1338, 7)"
            ]
          },
          "metadata": {},
          "execution_count": 4
        }
      ],
      "source": [
        "medical_df.shape"
      ]
    },
    {
      "cell_type": "code",
      "execution_count": 5,
      "metadata": {
        "id": "U-GOQdekzeeR",
        "colab": {
          "base_uri": "https://localhost:8080/"
        },
        "outputId": "bd45875a-91a8-4395-c0db-ab401bd8e865"
      },
      "outputs": [
        {
          "output_type": "execute_result",
          "data": {
            "text/plain": [
              "age           int64\n",
              "sex          object\n",
              "bmi         float64\n",
              "children      int64\n",
              "smoker       object\n",
              "region       object\n",
              "charges     float64\n",
              "dtype: object"
            ]
          },
          "metadata": {},
          "execution_count": 5
        }
      ],
      "source": [
        "medical_df.dtypes"
      ]
    },
    {
      "cell_type": "code",
      "execution_count": 6,
      "metadata": {
        "id": "VuLfSzP2zeeS",
        "colab": {
          "base_uri": "https://localhost:8080/",
          "height": 206
        },
        "outputId": "97406ea1-b05c-49ba-f930-01846c698850"
      },
      "outputs": [
        {
          "output_type": "execute_result",
          "data": {
            "text/plain": [
              "   age     sex     bmi  children smoker     region      charges\n",
              "0   19  female  27.900         0    yes  southwest  16884.92400\n",
              "1   18    male  33.770         1     no  southeast   1725.55230\n",
              "2   28    male  33.000         3     no  southeast   4449.46200\n",
              "3   33    male  22.705         0     no  northwest  21984.47061\n",
              "4   32    male  28.880         0     no  northwest   3866.85520"
            ],
            "text/html": [
              "\n",
              "  <div id=\"df-7ca76c52-950f-4e1f-bacd-19f713cbb595\">\n",
              "    <div class=\"colab-df-container\">\n",
              "      <div>\n",
              "<style scoped>\n",
              "    .dataframe tbody tr th:only-of-type {\n",
              "        vertical-align: middle;\n",
              "    }\n",
              "\n",
              "    .dataframe tbody tr th {\n",
              "        vertical-align: top;\n",
              "    }\n",
              "\n",
              "    .dataframe thead th {\n",
              "        text-align: right;\n",
              "    }\n",
              "</style>\n",
              "<table border=\"1\" class=\"dataframe\">\n",
              "  <thead>\n",
              "    <tr style=\"text-align: right;\">\n",
              "      <th></th>\n",
              "      <th>age</th>\n",
              "      <th>sex</th>\n",
              "      <th>bmi</th>\n",
              "      <th>children</th>\n",
              "      <th>smoker</th>\n",
              "      <th>region</th>\n",
              "      <th>charges</th>\n",
              "    </tr>\n",
              "  </thead>\n",
              "  <tbody>\n",
              "    <tr>\n",
              "      <th>0</th>\n",
              "      <td>19</td>\n",
              "      <td>female</td>\n",
              "      <td>27.900</td>\n",
              "      <td>0</td>\n",
              "      <td>yes</td>\n",
              "      <td>southwest</td>\n",
              "      <td>16884.92400</td>\n",
              "    </tr>\n",
              "    <tr>\n",
              "      <th>1</th>\n",
              "      <td>18</td>\n",
              "      <td>male</td>\n",
              "      <td>33.770</td>\n",
              "      <td>1</td>\n",
              "      <td>no</td>\n",
              "      <td>southeast</td>\n",
              "      <td>1725.55230</td>\n",
              "    </tr>\n",
              "    <tr>\n",
              "      <th>2</th>\n",
              "      <td>28</td>\n",
              "      <td>male</td>\n",
              "      <td>33.000</td>\n",
              "      <td>3</td>\n",
              "      <td>no</td>\n",
              "      <td>southeast</td>\n",
              "      <td>4449.46200</td>\n",
              "    </tr>\n",
              "    <tr>\n",
              "      <th>3</th>\n",
              "      <td>33</td>\n",
              "      <td>male</td>\n",
              "      <td>22.705</td>\n",
              "      <td>0</td>\n",
              "      <td>no</td>\n",
              "      <td>northwest</td>\n",
              "      <td>21984.47061</td>\n",
              "    </tr>\n",
              "    <tr>\n",
              "      <th>4</th>\n",
              "      <td>32</td>\n",
              "      <td>male</td>\n",
              "      <td>28.880</td>\n",
              "      <td>0</td>\n",
              "      <td>no</td>\n",
              "      <td>northwest</td>\n",
              "      <td>3866.85520</td>\n",
              "    </tr>\n",
              "  </tbody>\n",
              "</table>\n",
              "</div>\n",
              "      <button class=\"colab-df-convert\" onclick=\"convertToInteractive('df-7ca76c52-950f-4e1f-bacd-19f713cbb595')\"\n",
              "              title=\"Convert this dataframe to an interactive table.\"\n",
              "              style=\"display:none;\">\n",
              "        \n",
              "  <svg xmlns=\"http://www.w3.org/2000/svg\" height=\"24px\"viewBox=\"0 0 24 24\"\n",
              "       width=\"24px\">\n",
              "    <path d=\"M0 0h24v24H0V0z\" fill=\"none\"/>\n",
              "    <path d=\"M18.56 5.44l.94 2.06.94-2.06 2.06-.94-2.06-.94-.94-2.06-.94 2.06-2.06.94zm-11 1L8.5 8.5l.94-2.06 2.06-.94-2.06-.94L8.5 2.5l-.94 2.06-2.06.94zm10 10l.94 2.06.94-2.06 2.06-.94-2.06-.94-.94-2.06-.94 2.06-2.06.94z\"/><path d=\"M17.41 7.96l-1.37-1.37c-.4-.4-.92-.59-1.43-.59-.52 0-1.04.2-1.43.59L10.3 9.45l-7.72 7.72c-.78.78-.78 2.05 0 2.83L4 21.41c.39.39.9.59 1.41.59.51 0 1.02-.2 1.41-.59l7.78-7.78 2.81-2.81c.8-.78.8-2.07 0-2.86zM5.41 20L4 18.59l7.72-7.72 1.47 1.35L5.41 20z\"/>\n",
              "  </svg>\n",
              "      </button>\n",
              "      \n",
              "  <style>\n",
              "    .colab-df-container {\n",
              "      display:flex;\n",
              "      flex-wrap:wrap;\n",
              "      gap: 12px;\n",
              "    }\n",
              "\n",
              "    .colab-df-convert {\n",
              "      background-color: #E8F0FE;\n",
              "      border: none;\n",
              "      border-radius: 50%;\n",
              "      cursor: pointer;\n",
              "      display: none;\n",
              "      fill: #1967D2;\n",
              "      height: 32px;\n",
              "      padding: 0 0 0 0;\n",
              "      width: 32px;\n",
              "    }\n",
              "\n",
              "    .colab-df-convert:hover {\n",
              "      background-color: #E2EBFA;\n",
              "      box-shadow: 0px 1px 2px rgba(60, 64, 67, 0.3), 0px 1px 3px 1px rgba(60, 64, 67, 0.15);\n",
              "      fill: #174EA6;\n",
              "    }\n",
              "\n",
              "    [theme=dark] .colab-df-convert {\n",
              "      background-color: #3B4455;\n",
              "      fill: #D2E3FC;\n",
              "    }\n",
              "\n",
              "    [theme=dark] .colab-df-convert:hover {\n",
              "      background-color: #434B5C;\n",
              "      box-shadow: 0px 1px 3px 1px rgba(0, 0, 0, 0.15);\n",
              "      filter: drop-shadow(0px 1px 2px rgba(0, 0, 0, 0.3));\n",
              "      fill: #FFFFFF;\n",
              "    }\n",
              "  </style>\n",
              "\n",
              "      <script>\n",
              "        const buttonEl =\n",
              "          document.querySelector('#df-7ca76c52-950f-4e1f-bacd-19f713cbb595 button.colab-df-convert');\n",
              "        buttonEl.style.display =\n",
              "          google.colab.kernel.accessAllowed ? 'block' : 'none';\n",
              "\n",
              "        async function convertToInteractive(key) {\n",
              "          const element = document.querySelector('#df-7ca76c52-950f-4e1f-bacd-19f713cbb595');\n",
              "          const dataTable =\n",
              "            await google.colab.kernel.invokeFunction('convertToInteractive',\n",
              "                                                     [key], {});\n",
              "          if (!dataTable) return;\n",
              "\n",
              "          const docLinkHtml = 'Like what you see? Visit the ' +\n",
              "            '<a target=\"_blank\" href=https://colab.research.google.com/notebooks/data_table.ipynb>data table notebook</a>'\n",
              "            + ' to learn more about interactive tables.';\n",
              "          element.innerHTML = '';\n",
              "          dataTable['output_type'] = 'display_data';\n",
              "          await google.colab.output.renderOutput(dataTable, element);\n",
              "          const docLink = document.createElement('div');\n",
              "          docLink.innerHTML = docLinkHtml;\n",
              "          element.appendChild(docLink);\n",
              "        }\n",
              "      </script>\n",
              "    </div>\n",
              "  </div>\n",
              "  "
            ]
          },
          "metadata": {},
          "execution_count": 6
        }
      ],
      "source": [
        "medical_df.head()"
      ]
    },
    {
      "cell_type": "code",
      "source": [
        "medical_df['region'].unique()"
      ],
      "metadata": {
        "colab": {
          "base_uri": "https://localhost:8080/"
        },
        "id": "d-HXDf3P4Fsb",
        "outputId": "bda55b63-fdfb-4a71-f3ae-14390f6ebdca"
      },
      "execution_count": 7,
      "outputs": [
        {
          "output_type": "execute_result",
          "data": {
            "text/plain": [
              "array(['southwest', 'southeast', 'northwest', 'northeast'], dtype=object)"
            ]
          },
          "metadata": {},
          "execution_count": 7
        }
      ]
    },
    {
      "cell_type": "code",
      "source": [
        "medical_df['sex'] = medical_df['sex'].replace('female', 0)\n",
        "medical_df['sex'] = medical_df['sex'].replace('male', 1)\n",
        "medical_df['smoker'] = medical_df['smoker'].replace('yes', 1)\n",
        "medical_df['smoker'] = medical_df['smoker'].replace('no', 0)\n",
        "medical_df['region'] = medical_df['region'].replace('northeast', 0)\n",
        "medical_df['region'] = medical_df['region'].replace('southeast', 1)\n",
        "medical_df['region'] = medical_df['region'].replace('southwest', 2)\n",
        "medical_df['region'] = medical_df['region'].replace('northwest', 3)"
      ],
      "metadata": {
        "id": "NdXkSaFv1PYs"
      },
      "execution_count": 8,
      "outputs": []
    },
    {
      "cell_type": "code",
      "execution_count": 9,
      "metadata": {
        "id": "qjwHfW_PzeeW"
      },
      "outputs": [],
      "source": [
        "features = ['age', 'sex', 'bmi', 'children', 'smoker', 'region']"
      ]
    },
    {
      "cell_type": "markdown",
      "metadata": {
        "id": "B2H8Ml6ezeeW"
      },
      "source": [
        "### Splitting train and test datasets"
      ]
    },
    {
      "cell_type": "code",
      "execution_count": 10,
      "metadata": {
        "id": "j_Fq86W0zeeW"
      },
      "outputs": [],
      "source": [
        "X = medical_df[features]\n",
        "Y = medical_df['charges']"
      ]
    },
    {
      "cell_type": "code",
      "execution_count": 11,
      "metadata": {
        "id": "svgn7fHjzeeX"
      },
      "outputs": [],
      "source": [
        "X_train, X_test, Y_train, Y_test = train_test_split(X, Y, test_size = 0.2, random_state = 1)"
      ]
    },
    {
      "cell_type": "code",
      "execution_count": 12,
      "metadata": {
        "id": "eMpz_fRazeeX",
        "colab": {
          "base_uri": "https://localhost:8080/"
        },
        "outputId": "125ae992-24b2-43c3-9088-821ab3382d7b"
      },
      "outputs": [
        {
          "output_type": "execute_result",
          "data": {
            "text/plain": [
              "(1070, 6)"
            ]
          },
          "metadata": {},
          "execution_count": 12
        }
      ],
      "source": [
        "X_train.shape"
      ]
    },
    {
      "cell_type": "code",
      "execution_count": 13,
      "metadata": {
        "id": "QGb4h2oPzeeX",
        "colab": {
          "base_uri": "https://localhost:8080/"
        },
        "outputId": "5c7b9290-1ac1-4324-9771-4f31849881a5"
      },
      "outputs": [
        {
          "output_type": "execute_result",
          "data": {
            "text/plain": [
              "(268, 6)"
            ]
          },
          "metadata": {},
          "execution_count": 13
        }
      ],
      "source": [
        "X_test.shape"
      ]
    },
    {
      "cell_type": "markdown",
      "metadata": {
        "id": "2tTC3MGkzeeY"
      },
      "source": [
        "### Training the model"
      ]
    },
    {
      "cell_type": "code",
      "execution_count": 14,
      "metadata": {
        "id": "vgCkRiY8zeeY"
      },
      "outputs": [],
      "source": [
        "regr = LinearRegression()"
      ]
    },
    {
      "cell_type": "code",
      "execution_count": 15,
      "metadata": {
        "id": "RmeEyPmyzeeY",
        "colab": {
          "base_uri": "https://localhost:8080/"
        },
        "outputId": "31e73b03-f35e-45cc-ed7d-0d4739f0a32d"
      },
      "outputs": [
        {
          "output_type": "execute_result",
          "data": {
            "text/plain": [
              "LinearRegression()"
            ]
          },
          "metadata": {},
          "execution_count": 15
        }
      ],
      "source": [
        "regr.fit(X_train, Y_train)"
      ]
    },
    {
      "cell_type": "code",
      "execution_count": 16,
      "metadata": {
        "id": "lElIn_c3zeeZ",
        "colab": {
          "base_uri": "https://localhost:8080/"
        },
        "outputId": "a811b08a-9392-4591-9f4f-e75bf2774667"
      },
      "outputs": [
        {
          "output_type": "execute_result",
          "data": {
            "text/plain": [
              "array([  258.35331385,  -240.66580348,   304.14035685,   413.00447469,\n",
              "       23758.70488428,  -108.11651622])"
            ]
          },
          "metadata": {},
          "execution_count": 16
        }
      ],
      "source": [
        "regr.coef_"
      ]
    },
    {
      "cell_type": "code",
      "execution_count": 17,
      "metadata": {
        "id": "W8AWmViJzeeZ",
        "colab": {
          "base_uri": "https://localhost:8080/"
        },
        "outputId": "7736d3ce-bf67-4b58-e2e3-a110aa8cfb30"
      },
      "outputs": [
        {
          "output_type": "execute_result",
          "data": {
            "text/plain": [
              "-11228.8481148371"
            ]
          },
          "metadata": {},
          "execution_count": 17
        }
      ],
      "source": [
        "regr.intercept_"
      ]
    },
    {
      "cell_type": "markdown",
      "metadata": {
        "id": "WierQ3O3zeeZ"
      },
      "source": [
        "Entrene un primer modelo de regresión lineal sin aplicar ningún tipo de regularización. Evalúe dicho modelo y\n",
        "concluya:\n",
        "\n",
        "  1. ¿Es aceptable el error obtenido?\n",
        "  2. ¿Hay evidencia de overfitting?"
      ]
    },
    {
      "cell_type": "code",
      "execution_count": 18,
      "metadata": {
        "id": "6UFdCz_xzeeZ"
      },
      "outputs": [],
      "source": [
        "preds_train = regr.predict(X_train)\n",
        "preds_test = regr.predict(X_test)"
      ]
    },
    {
      "cell_type": "code",
      "execution_count": 19,
      "metadata": {
        "id": "N4LttmpXzeeZ",
        "colab": {
          "base_uri": "https://localhost:8080/"
        },
        "outputId": "d99fd9f4-d6ab-4d94-abf4-d573cb014aa2"
      },
      "outputs": [
        {
          "output_type": "execute_result",
          "data": {
            "text/plain": [
              "(6077.429016192672, 5974.390555035169)"
            ]
          },
          "metadata": {},
          "execution_count": 19
        }
      ],
      "source": [
        "np.sqrt(mean_squared_error(Y_train, preds_train)), np.sqrt(mean_squared_error(Y_test, preds_test))"
      ]
    },
    {
      "cell_type": "markdown",
      "source": [
        "**Respuestas**\n",
        "1. El error es exagerado debido a que el MSE nos indica que en promedio nos equivocamos alrededor de 6000 dolares en nuestras predicciones, lo cual para predecir precios de alrededor de 4 o 5 grados de magnitud modificaria considerablemente el valor real.\n",
        "\n",
        "2. No existe evidencia de overfitting debido a que ambos errores de testing y de training son muy altos, por lo tanto hay overfitting."
      ],
      "metadata": {
        "id": "OmfKino085lV"
      }
    },
    {
      "cell_type": "markdown",
      "source": [
        "Aplique una transformación polinomial a los datos de entrada y regularización Ridge o Lasso al modelo de\n",
        "regresión. Pruebe con al menos 2 grados diferentes del polinomio y con al menos 3 valores de alpha para la\n",
        "regularización. Evalúe dichos modelos y concluya:\n",
        "1. ¿Fue posible mejorar el error? ¿Qué hiper-parámetros tiene el modelo que produce el menor error?\n",
        "2. ¿Qué atributos parecen ser los más importantes para realizar la predicción?"
      ],
      "metadata": {
        "id": "NfN4ESLw_xBy"
      }
    },
    {
      "cell_type": "markdown",
      "source": [
        "Primero aplicamos una transformación polinomial con grado 2 en los features "
      ],
      "metadata": {
        "id": "iBrLVxOmCBA3"
      }
    },
    {
      "cell_type": "code",
      "source": [
        "from sklearn.preprocessing import PolynomialFeatures\n",
        "\n",
        "X_poly_2 = PolynomialFeatures(degree=2, include_bias=False).fit_transform(X)\n",
        "regr_poly_2 = LinearRegression()\n",
        "\n",
        "X_train_poly_2, X_test_poly_2, Y_train_poly_2, Y_test_poly_2 = train_test_split(X_poly_2, Y, test_size = 0.2, random_state = 1)\n",
        "\n",
        "regr_poly_2.fit(X_train_poly_2, Y_train_poly_2)"
      ],
      "metadata": {
        "colab": {
          "base_uri": "https://localhost:8080/"
        },
        "id": "zDljpsPT9NnO",
        "outputId": "0b437b52-54ce-4531-9ac6-f39098282c98"
      },
      "execution_count": 20,
      "outputs": [
        {
          "output_type": "execute_result",
          "data": {
            "text/plain": [
              "LinearRegression()"
            ]
          },
          "metadata": {},
          "execution_count": 20
        }
      ]
    },
    {
      "cell_type": "code",
      "source": [
        "regr_poly_2.coef_"
      ],
      "metadata": {
        "colab": {
          "base_uri": "https://localhost:8080/"
        },
        "id": "ch2o_Yk2A4KT",
        "outputId": "b6a64791-bb7e-4d99-9545-043a9e5e8ae9"
      },
      "execution_count": 21,
      "outputs": [
        {
          "output_type": "execute_result",
          "data": {
            "text/plain": [
              "array([-1.23636980e+02, -1.05736276e+03,  4.54741676e+02,  1.52687241e+03,\n",
              "       -9.59511731e+03, -1.86740667e+03,  3.79239737e+00,  2.67048692e+01,\n",
              "        2.21249241e+00,  3.40916152e+00, -2.04142501e+01,  1.37649274e+00,\n",
              "       -1.05736276e+03,  1.79885235e+01, -2.18910558e+02,  5.39655455e+01,\n",
              "        5.80691879e+01, -8.46110009e+00, -1.73317779e+01,  1.44493711e+03,\n",
              "        7.84343052e+00, -1.05681505e+02, -4.69261994e+02,  3.60631139e+01,\n",
              "       -9.59511731e+03, -3.40412117e+00,  4.41481173e+02])"
            ]
          },
          "metadata": {},
          "execution_count": 21
        }
      ]
    },
    {
      "cell_type": "code",
      "source": [
        "regr_poly_2.intercept_"
      ],
      "metadata": {
        "colab": {
          "base_uri": "https://localhost:8080/"
        },
        "id": "i-r7NemMA88I",
        "outputId": "078a8c83-0a93-4002-be5f-e1de791b09f7"
      },
      "execution_count": 22,
      "outputs": [
        {
          "output_type": "execute_result",
          "data": {
            "text/plain": [
              "-1540.709964913507"
            ]
          },
          "metadata": {},
          "execution_count": 22
        }
      ]
    },
    {
      "cell_type": "code",
      "source": [
        "preds_train_poly_2 = regr_poly_2.predict(X_train_poly_2)\n",
        "preds_test_poly_2 = regr_poly_2.predict(X_test_poly_2)"
      ],
      "metadata": {
        "id": "QC2wUdWoBBJW"
      },
      "execution_count": 23,
      "outputs": []
    },
    {
      "cell_type": "code",
      "source": [
        "np.sqrt(mean_squared_error(Y_train_poly_2, preds_train_poly_2)), np.sqrt(mean_squared_error(Y_test_poly_2, preds_test_poly_2))"
      ],
      "metadata": {
        "colab": {
          "base_uri": "https://localhost:8080/"
        },
        "id": "T9Kd8tERBE4k",
        "outputId": "a66fe600-213f-446b-955d-46c89aafc708"
      },
      "execution_count": 24,
      "outputs": [
        {
          "output_type": "execute_result",
          "data": {
            "text/plain": [
              "(4808.76702659995, 4567.397048868338)"
            ]
          },
          "metadata": {},
          "execution_count": 24
        }
      ]
    },
    {
      "cell_type": "markdown",
      "source": [
        "Debido a que el error sigue tan grande se probara con una transformación polinomial de grado 5"
      ],
      "metadata": {
        "id": "dgrEHGjnGmly"
      }
    },
    {
      "cell_type": "code",
      "source": [
        "X_poly_10 = PolynomialFeatures(degree=10, include_bias=False).fit_transform(X)\n",
        "regr_poly_10 = LinearRegression()\n",
        "\n",
        "X_train_poly_10, X_test_poly_10, Y_train_poly_10, Y_test_poly_10 = train_test_split(X_poly_10, Y, test_size = 0.2, random_state = 1)\n",
        "\n",
        "regr_poly_10.fit(X_train_poly_10, Y_train_poly_10)"
      ],
      "metadata": {
        "colab": {
          "base_uri": "https://localhost:8080/"
        },
        "id": "2OFyk0uFGk6q",
        "outputId": "af7815b4-356a-46cb-fcfa-0d8e990ef82c"
      },
      "execution_count": 25,
      "outputs": [
        {
          "output_type": "execute_result",
          "data": {
            "text/plain": [
              "LinearRegression()"
            ]
          },
          "metadata": {},
          "execution_count": 25
        }
      ]
    },
    {
      "cell_type": "code",
      "source": [
        "regr_poly_10.coef_"
      ],
      "metadata": {
        "colab": {
          "base_uri": "https://localhost:8080/"
        },
        "id": "cW7c_grnG2Vp",
        "outputId": "08a65a78-97d2-444d-a34e-63a4bf230702"
      },
      "execution_count": 26,
      "outputs": [
        {
          "output_type": "execute_result",
          "data": {
            "text/plain": [
              "array([-2.43534636e-01, -3.19889924e-02,  2.06815632e-01, ...,\n",
              "       -9.27881686e-07, -1.78430008e-06, -1.36867280e-01])"
            ]
          },
          "metadata": {},
          "execution_count": 26
        }
      ]
    },
    {
      "cell_type": "code",
      "source": [
        "regr_poly_10.intercept_"
      ],
      "metadata": {
        "colab": {
          "base_uri": "https://localhost:8080/"
        },
        "id": "fIHvmxOyG4H4",
        "outputId": "cc760397-131e-45de-fca9-6b942eaab1ec"
      },
      "execution_count": 27,
      "outputs": [
        {
          "output_type": "execute_result",
          "data": {
            "text/plain": [
              "70240.6749000129"
            ]
          },
          "metadata": {},
          "execution_count": 27
        }
      ]
    },
    {
      "cell_type": "code",
      "source": [
        "preds_train_poly_10 = regr_poly_10.predict(X_train_poly_10)\n",
        "preds_test_poly_10 = regr_poly_10.predict(X_test_poly_10)"
      ],
      "metadata": {
        "id": "WRICfj02G8Ur"
      },
      "execution_count": 28,
      "outputs": []
    },
    {
      "cell_type": "code",
      "source": [
        "np.sqrt(mean_squared_error(Y_train_poly_10, preds_train_poly_10)), np.sqrt(mean_squared_error(Y_test_poly_10, preds_test_poly_10))"
      ],
      "metadata": {
        "colab": {
          "base_uri": "https://localhost:8080/"
        },
        "id": "4xF0xjgHHFYJ",
        "outputId": "c937e316-2e2d-4f75-b2a5-c778ca348f34"
      },
      "execution_count": 29,
      "outputs": [
        {
          "output_type": "execute_result",
          "data": {
            "text/plain": [
              "(1710.1262276110504, 8744843.009838318)"
            ]
          },
          "metadata": {},
          "execution_count": 29
        }
      ]
    },
    {
      "cell_type": "markdown",
      "source": [
        "En este caso se ve que el error de training disminuyo considerablemente pero el test aumento un monton, por lo tanto estamos hablando de overfitting por lo cual tiene sentido hacer una regularización. Empezaremos con una lasso con un alpha de 0.01, luego una de 0.1 y por ultimo uno de 1"
      ],
      "metadata": {
        "id": "uPbKgGlTHyke"
      }
    },
    {
      "cell_type": "markdown",
      "source": [
        "Alpha 0.01"
      ],
      "metadata": {
        "id": "WEQmBrsEMyPO"
      }
    },
    {
      "cell_type": "code",
      "source": [
        "X_train_poly_L1_1, X_test_poly_L1_1, Y_train_poly_L1_1, Y_test_poly_L1_1 = train_test_split(X_poly_10, Y, test_size = 0.2, random_state = 1)\n",
        "\n",
        "regr_poly_L1_1 = SGDRegressor(penalty='L1', alpha=0.01 / X_train_poly_L1_1.shape[0], tol=None, max_iter=1000)\n",
        "\n",
        "regr_poly_L1_1.fit(X_train_poly_L1_1, Y_train_poly_L1_1)"
      ],
      "metadata": {
        "colab": {
          "base_uri": "https://localhost:8080/"
        },
        "id": "Ed5pCZn8Hxty",
        "outputId": "0807a304-52ac-43ff-f492-e00de6041dfc"
      },
      "execution_count": 81,
      "outputs": [
        {
          "output_type": "execute_result",
          "data": {
            "text/plain": [
              "SGDRegressor(alpha=9.345794392523365e-06, penalty='L1', tol=None)"
            ]
          },
          "metadata": {},
          "execution_count": 81
        }
      ]
    },
    {
      "cell_type": "code",
      "source": [
        "regr_poly_L1_1.coef_"
      ],
      "metadata": {
        "colab": {
          "base_uri": "https://localhost:8080/"
        },
        "id": "HYgrIpcpK2eU",
        "outputId": "e3f434ed-9735-438f-ba07-bfe1ef124d2e"
      },
      "execution_count": 82,
      "outputs": [
        {
          "output_type": "execute_result",
          "data": {
            "text/plain": [
              "array([5.16399637e+13, 1.60905232e+11, 3.70098330e+13, ...,\n",
              "       1.04447897e+14, 2.94465419e+14, 4.33112703e+16])"
            ]
          },
          "metadata": {},
          "execution_count": 82
        }
      ]
    },
    {
      "cell_type": "code",
      "source": [
        "regr_poly_L1_1.intercept_"
      ],
      "metadata": {
        "colab": {
          "base_uri": "https://localhost:8080/"
        },
        "id": "VfP6cpsoK8Hs",
        "outputId": "0a4ec7fe-f3bf-4a95-c661-fb0928105293"
      },
      "execution_count": 83,
      "outputs": [
        {
          "output_type": "execute_result",
          "data": {
            "text/plain": [
              "array([1.62064917e+12])"
            ]
          },
          "metadata": {},
          "execution_count": 83
        }
      ]
    },
    {
      "cell_type": "code",
      "source": [
        "preds_train_poly_L1_1 = regr_poly_L1_1.predict(X_train_poly_L1_1)\n",
        "preds_test_poly_L1_1 = regr_poly_L1_1.predict(X_test_poly_L1_1)"
      ],
      "metadata": {
        "id": "9A7eL97DLILE"
      },
      "execution_count": 84,
      "outputs": []
    },
    {
      "cell_type": "code",
      "source": [
        "np.sqrt(mean_squared_error(Y_train_poly_L1_1, preds_train_poly_L1_1)), np.sqrt(mean_squared_error(Y_test_poly_L1_1, preds_test_poly_L1_1))"
      ],
      "metadata": {
        "colab": {
          "base_uri": "https://localhost:8080/"
        },
        "id": "91gTZuTvLYY6",
        "outputId": "2b6c910b-c440-450b-acd5-887a1a47b4ae"
      },
      "execution_count": 85,
      "outputs": [
        {
          "output_type": "execute_result",
          "data": {
            "text/plain": [
              "(5.100385392291315e+42, 5.0074592640811944e+42)"
            ]
          },
          "metadata": {},
          "execution_count": 85
        }
      ]
    },
    {
      "cell_type": "markdown",
      "source": [
        "Alpha = 0.1"
      ],
      "metadata": {
        "id": "ggXVTQeFMuST"
      }
    },
    {
      "cell_type": "code",
      "source": [
        "X_train_poly_L1_2, X_test_poly_L1_2, Y_train_poly_L1_2, Y_test_poly_L1_2 = train_test_split(X_poly_10, Y, test_size = 0.2, random_state = 1)\n",
        "\n",
        "regr_poly_L1_2 = SGDRegressor(penalty='L1', alpha=0.1 / X_train_poly_L1_2.shape[0], tol=None, max_iter=1000)\n",
        "\n",
        "regr_poly_L1_2.fit(X_train_poly_L1_2, Y_train_poly_L1_2)"
      ],
      "metadata": {
        "colab": {
          "base_uri": "https://localhost:8080/"
        },
        "outputId": "c987d2af-fff7-4d79-8ac6-9108b70925e8",
        "id": "vc1G_vdiMMUA"
      },
      "execution_count": 86,
      "outputs": [
        {
          "output_type": "execute_result",
          "data": {
            "text/plain": [
              "SGDRegressor(alpha=9.345794392523365e-05, penalty='L1', tol=None)"
            ]
          },
          "metadata": {},
          "execution_count": 86
        }
      ]
    },
    {
      "cell_type": "code",
      "source": [
        "regr_poly_L1_2.coef_"
      ],
      "metadata": {
        "colab": {
          "base_uri": "https://localhost:8080/"
        },
        "outputId": "45ee67bf-5759-452b-ba59-0d95e6e2b070",
        "id": "PO-GhYmMMY50"
      },
      "execution_count": 87,
      "outputs": [
        {
          "output_type": "execute_result",
          "data": {
            "text/plain": [
              "array([-5.47357643e+13, -1.64891213e+12, -5.52299340e+13, ...,\n",
              "       -1.23719566e+15, -3.68214915e+15, -4.78722726e+16])"
            ]
          },
          "metadata": {},
          "execution_count": 87
        }
      ]
    },
    {
      "cell_type": "code",
      "source": [
        "regr_poly_L1_2.intercept_"
      ],
      "metadata": {
        "colab": {
          "base_uri": "https://localhost:8080/"
        },
        "outputId": "57985667-7e2a-4e86-e27f-44ff7a2ae7b9",
        "id": "gmfedU1eMY51"
      },
      "execution_count": 88,
      "outputs": [
        {
          "output_type": "execute_result",
          "data": {
            "text/plain": [
              "array([-1.9916322e+12])"
            ]
          },
          "metadata": {},
          "execution_count": 88
        }
      ]
    },
    {
      "cell_type": "code",
      "source": [
        "preds_train_poly_L1_2 = regr_poly_L1_2.predict(X_train_poly_L1_2)\n",
        "preds_test_poly_L1_2 = regr_poly_L1_2.predict(X_test_poly_L1_2)"
      ],
      "metadata": {
        "id": "EWlzZoCBMY51"
      },
      "execution_count": 89,
      "outputs": []
    },
    {
      "cell_type": "code",
      "source": [
        "np.sqrt(mean_squared_error(Y_train_poly_L1_2, preds_train_poly_L1_2)), np.sqrt(mean_squared_error(Y_test_poly_L1_2, preds_test_poly_L1_2))"
      ],
      "metadata": {
        "colab": {
          "base_uri": "https://localhost:8080/"
        },
        "outputId": "dd0db0ab-b1c7-4b4b-dde4-d706f41480f6",
        "id": "zwglbVKsMY51"
      },
      "execution_count": 90,
      "outputs": [
        {
          "output_type": "execute_result",
          "data": {
            "text/plain": [
              "(1.1018424941741497e+44, 1.113973152770239e+44)"
            ]
          },
          "metadata": {},
          "execution_count": 90
        }
      ]
    },
    {
      "cell_type": "markdown",
      "source": [
        "Alpha = 1"
      ],
      "metadata": {
        "id": "7p-bjPxRNeB0"
      }
    },
    {
      "cell_type": "code",
      "source": [
        "X_train_poly_L1_3, X_test_poly_L1_3, Y_train_poly_L1_3, Y_test_poly_L1_3 = train_test_split(X_poly_10, Y, test_size = 0.2, random_state = 1)\n",
        "\n",
        "regr_poly_L1_3 = SGDRegressor(penalty='L1', alpha=1 / X_train_poly_L1_3.shape[0], tol=None, max_iter=1000)\n",
        "\n",
        "regr_poly_L1_3.fit(X_train_poly_L1_3, Y_train_poly_L1_3)"
      ],
      "metadata": {
        "colab": {
          "base_uri": "https://localhost:8080/"
        },
        "outputId": "d21a594b-8fa9-4f6a-c1bc-01045548525a",
        "id": "7FZU4tMBNeB1"
      },
      "execution_count": 91,
      "outputs": [
        {
          "output_type": "execute_result",
          "data": {
            "text/plain": [
              "SGDRegressor(alpha=0.0009345794392523365, penalty='L1', tol=None)"
            ]
          },
          "metadata": {},
          "execution_count": 91
        }
      ]
    },
    {
      "cell_type": "code",
      "source": [
        "regr_poly_L1_3.coef_"
      ],
      "metadata": {
        "colab": {
          "base_uri": "https://localhost:8080/"
        },
        "outputId": "3dac9766-7b12-48ef-8417-7e213360e11a",
        "id": "GNwtZc9TNeB1"
      },
      "execution_count": 77,
      "outputs": [
        {
          "output_type": "execute_result",
          "data": {
            "text/plain": [
              "array([3.88261499e+13, 1.28696243e+12, 3.06761447e+13, ...,\n",
              "       1.11723804e+15, 3.33915577e+15, 1.25357495e+16])"
            ]
          },
          "metadata": {},
          "execution_count": 77
        }
      ]
    },
    {
      "cell_type": "code",
      "source": [
        "regr_poly_L1_3.intercept_"
      ],
      "metadata": {
        "colab": {
          "base_uri": "https://localhost:8080/"
        },
        "outputId": "3bc0057a-e6ae-42aa-ad6a-169a71abaaee",
        "id": "p-gM4Ul2NeB1"
      },
      "execution_count": 78,
      "outputs": [
        {
          "output_type": "execute_result",
          "data": {
            "text/plain": [
              "array([1.48633223e+12])"
            ]
          },
          "metadata": {},
          "execution_count": 78
        }
      ]
    },
    {
      "cell_type": "code",
      "source": [
        "preds_train_poly_L1_3 = regr_poly_L1_3.predict(X_train_poly_L1_3)\n",
        "preds_test_poly_L1_3 = regr_poly_L1_3.predict(X_test_poly_L1_3)"
      ],
      "metadata": {
        "id": "GdIYo9f_NeB1"
      },
      "execution_count": 79,
      "outputs": []
    },
    {
      "cell_type": "code",
      "source": [
        "np.sqrt(mean_squared_error(Y_train_poly_L1_3, preds_train_poly_L1_3)), np.sqrt(mean_squared_error(Y_test_poly_L1_2, preds_test_poly_L1_3))"
      ],
      "metadata": {
        "colab": {
          "base_uri": "https://localhost:8080/"
        },
        "outputId": "fb5521c7-542a-4621-d632-5fe02a02e7e8",
        "id": "FFlocOlmNeB1"
      },
      "execution_count": 80,
      "outputs": [
        {
          "output_type": "execute_result",
          "data": {
            "text/plain": [
              "(6.88128671094069e+43, 6.970921705970118e+43)"
            ]
          },
          "metadata": {},
          "execution_count": 80
        }
      ]
    },
    {
      "cell_type": "markdown",
      "source": [
        "En ninguno de estos casos funciono y el error se se aumento exageradamente, ahora se probara con regularuzación L2 con los mismos alphas, ademas se usara la transformación polinomial de grado 2\n"
      ],
      "metadata": {
        "id": "IRILDZCKOJp_"
      }
    },
    {
      "cell_type": "markdown",
      "source": [
        "Alpha 0.01"
      ],
      "metadata": {
        "id": "KjjV1lzaRDaB"
      }
    },
    {
      "cell_type": "code",
      "source": [
        "X_train_poly_L2_1, X_test_poly_L2_1, Y_train_poly_L2_1, Y_test_poly_L2_1 = train_test_split(X_poly_2, Y, test_size = 0.2, random_state = 1)\n",
        "\n",
        "regr_poly_L2_1 = SGDRegressor(penalty='L2', alpha=0.01 / X_train_poly_L2_1.shape[0], tol=None, max_iter=1000)\n",
        "\n",
        "regr_poly_L2_1.fit(X_train_poly_L2_1, Y_train_poly_L2_1)"
      ],
      "metadata": {
        "colab": {
          "base_uri": "https://localhost:8080/"
        },
        "outputId": "d40f99b6-cfa8-473a-b7b8-9c756e9a3860",
        "id": "0TB34dsIRDaB"
      },
      "execution_count": 92,
      "outputs": [
        {
          "output_type": "execute_result",
          "data": {
            "text/plain": [
              "SGDRegressor(alpha=9.345794392523365e-06, penalty='L2', tol=None)"
            ]
          },
          "metadata": {},
          "execution_count": 92
        }
      ]
    },
    {
      "cell_type": "code",
      "source": [
        "regr_poly_L2_1.coef_"
      ],
      "metadata": {
        "colab": {
          "base_uri": "https://localhost:8080/"
        },
        "outputId": "a31dbfd2-11d3-4c71-fe8d-29358857a25a",
        "id": "CzeRcRBdRDaB"
      },
      "execution_count": 93,
      "outputs": [
        {
          "output_type": "execute_result",
          "data": {
            "text/plain": [
              "array([-7.56991664e+10,  2.59154442e+10, -1.67702217e+11,  5.47138067e+10,\n",
              "        6.16407568e+10,  1.43126759e+11,  5.83694199e+11, -1.37977680e+11,\n",
              "       -5.94783569e+11, -3.35711939e+11, -1.60771498e+11, -3.55193565e+11,\n",
              "        2.59154442e+10,  1.30890413e+09, -4.18728602e+10,  9.62086980e+10,\n",
              "        4.53503278e+11,  5.92790531e+10, -3.55978785e+11, -3.80983338e+11,\n",
              "        4.43703531e+11, -7.72223265e+11,  1.60607730e+11, -7.20334190e+11,\n",
              "        6.16407568e+10,  2.69619707e+11,  3.16689576e+11])"
            ]
          },
          "metadata": {},
          "execution_count": 93
        }
      ]
    },
    {
      "cell_type": "code",
      "source": [
        "regr_poly_L2_1.intercept_"
      ],
      "metadata": {
        "colab": {
          "base_uri": "https://localhost:8080/"
        },
        "outputId": "6681d460-c497-4d64-ed8c-e8057ec8b5c7",
        "id": "qiJFOW2DRDaB"
      },
      "execution_count": 94,
      "outputs": [
        {
          "output_type": "execute_result",
          "data": {
            "text/plain": [
              "array([1.89810066e+10])"
            ]
          },
          "metadata": {},
          "execution_count": 94
        }
      ]
    },
    {
      "cell_type": "code",
      "source": [
        "preds_train_poly_L2_1 = regr_poly_L2_1.predict(X_train_poly_L2_1)\n",
        "preds_test_poly_L2_1 = regr_poly_L2_1.predict(X_test_poly_L2_1)"
      ],
      "metadata": {
        "id": "-pzmiAgsRDaC"
      },
      "execution_count": 96,
      "outputs": []
    },
    {
      "cell_type": "code",
      "source": [
        "np.sqrt(mean_squared_error(Y_train_poly_L2_1, preds_train_poly_L2_1)), np.sqrt(mean_squared_error(Y_test_poly_L2_1, preds_test_poly_L2_1))"
      ],
      "metadata": {
        "colab": {
          "base_uri": "https://localhost:8080/"
        },
        "outputId": "c866c79c-fa66-4942-d3d9-a6fdee62921d",
        "id": "TX2Rjj4jRDaC"
      },
      "execution_count": 97,
      "outputs": [
        {
          "output_type": "execute_result",
          "data": {
            "text/plain": [
              "(497094928399916.9, 529331148128982.75)"
            ]
          },
          "metadata": {},
          "execution_count": 97
        }
      ]
    },
    {
      "cell_type": "markdown",
      "source": [
        "Alpha = 0.1"
      ],
      "metadata": {
        "id": "x68zJfW6RDaC"
      }
    },
    {
      "cell_type": "code",
      "source": [
        "X_train_poly_L2_2, X_test_poly_L2_2, Y_train_poly_L2_2, Y_test_poly_L2_2 = train_test_split(X_poly_2, Y, test_size = 0.2, random_state = 1)\n",
        "\n",
        "regr_poly_L2_2 = SGDRegressor(penalty='L2', alpha=0.1 / X_train_poly_L1_2.shape[0], tol=None, max_iter=100000)\n",
        "\n",
        "regr_poly_L2_2.fit(X_train_poly_L2_2, Y_train_poly_L2_2)"
      ],
      "metadata": {
        "colab": {
          "base_uri": "https://localhost:8080/"
        },
        "outputId": "668c8fa9-0c68-4778-e27c-889348c9f0a1",
        "id": "wFfA2UXiRDaC"
      },
      "execution_count": 104,
      "outputs": [
        {
          "output_type": "execute_result",
          "data": {
            "text/plain": [
              "SGDRegressor(alpha=9.345794392523364e-12, max_iter=100000, penalty='L2',\n",
              "             tol=None)"
            ]
          },
          "metadata": {},
          "execution_count": 104
        }
      ]
    },
    {
      "cell_type": "code",
      "source": [
        "regr_poly_L2_2.coef_"
      ],
      "metadata": {
        "colab": {
          "base_uri": "https://localhost:8080/"
        },
        "outputId": "03efd639-7bbb-44c4-db8c-a5e019b12507",
        "id": "wb6lIouNRDaC"
      },
      "execution_count": 105,
      "outputs": [
        {
          "output_type": "execute_result",
          "data": {
            "text/plain": [
              "array([ 1.66145194e+11, -2.09433422e+10, -2.48046472e+10, -2.81599170e+11,\n",
              "       -1.41035468e+10,  1.78985636e+11,  2.16930927e+10, -3.68988915e+10,\n",
              "       -5.08824992e+10, -1.91794577e+10,  6.63347370e+10,  9.27934516e+10,\n",
              "       -2.09433422e+10,  3.00534673e+10, -2.40585851e+10,  5.22680542e+10,\n",
              "       -1.78712717e+11,  9.99598527e+10,  2.60570412e+11, -1.15243809e+11,\n",
              "       -2.31810831e+11,  1.96297592e+10,  8.91013591e+10, -1.58968946e+11,\n",
              "       -1.41035468e+10, -6.96754343e+10,  1.47861762e+11])"
            ]
          },
          "metadata": {},
          "execution_count": 105
        }
      ]
    },
    {
      "cell_type": "code",
      "source": [
        "regr_poly_L2_2.intercept_"
      ],
      "metadata": {
        "colab": {
          "base_uri": "https://localhost:8080/"
        },
        "outputId": "a1d6d945-98fc-407c-a38e-4af3aa430012",
        "id": "Ax86XLqbRDaC"
      },
      "execution_count": 106,
      "outputs": [
        {
          "output_type": "execute_result",
          "data": {
            "text/plain": [
              "array([-2.89213702e+10])"
            ]
          },
          "metadata": {},
          "execution_count": 106
        }
      ]
    },
    {
      "cell_type": "code",
      "source": [
        "preds_train_poly_L2_2 = regr_poly_L2_2.predict(X_train_poly_L2_2)\n",
        "preds_test_poly_L2_2 = regr_poly_L2_2.predict(X_test_poly_L2_2)"
      ],
      "metadata": {
        "id": "8Jk-qqVIRDaC"
      },
      "execution_count": 107,
      "outputs": []
    },
    {
      "cell_type": "code",
      "source": [
        "np.sqrt(mean_squared_error(Y_train_poly_L1_2, preds_train_poly_L1_2)), np.sqrt(mean_squared_error(Y_test_poly_L1_2, preds_test_poly_L1_2))"
      ],
      "metadata": {
        "colab": {
          "base_uri": "https://localhost:8080/"
        },
        "outputId": "550f4fde-a6a4-4e65-b06c-88b04377d8fe",
        "id": "cFTq9BFhRDaC"
      },
      "execution_count": 108,
      "outputs": [
        {
          "output_type": "execute_result",
          "data": {
            "text/plain": [
              "(7.565594694815124e+43, 7.658280430856996e+43)"
            ]
          },
          "metadata": {},
          "execution_count": 108
        }
      ]
    },
    {
      "cell_type": "markdown",
      "source": [
        "Alpha = 1"
      ],
      "metadata": {
        "id": "d8GAfV79RDaD"
      }
    },
    {
      "cell_type": "code",
      "source": [
        "X_train_poly_L2_3, X_test_poly_L2_3, Y_train_poly_L2_3, Y_test_poly_L2_3 = train_test_split(X_poly_2, Y, test_size = 0.2, random_state = 1)\n",
        "\n",
        "regr_poly_L2_3 = SGDRegressor(penalty='L2', alpha=1 / X_train_poly_L2_3.shape[0], tol=None, max_iter=1000)\n",
        "\n",
        "regr_poly_L2_3.fit(X_train_poly_L2_3, Y_train_poly_L2_3)"
      ],
      "metadata": {
        "colab": {
          "base_uri": "https://localhost:8080/"
        },
        "outputId": "e4a9b62b-d196-42ed-f3dc-d96ed600e21f",
        "id": "FWusy01nRDaD"
      },
      "execution_count": 109,
      "outputs": [
        {
          "output_type": "execute_result",
          "data": {
            "text/plain": [
              "SGDRegressor(alpha=0.0009345794392523365, penalty='L2', tol=None)"
            ]
          },
          "metadata": {},
          "execution_count": 109
        }
      ]
    },
    {
      "cell_type": "code",
      "source": [
        "regr_poly_L2_3.coef_"
      ],
      "metadata": {
        "colab": {
          "base_uri": "https://localhost:8080/"
        },
        "outputId": "06a6a19d-8524-432d-b9a6-026bd4b1c818",
        "id": "kHtO8T4ORDaD"
      },
      "execution_count": 110,
      "outputs": [
        {
          "output_type": "execute_result",
          "data": {
            "text/plain": [
              "array([-2.02205459e+11,  6.86871279e+10, -1.34764672e+11,  8.56726426e+10,\n",
              "        6.64997789e+10, -1.22518766e+11, -1.99010216e+11, -2.28208477e+11,\n",
              "       -8.18181006e+11, -1.47327029e+11,  5.85920157e+08, -8.30097537e+11,\n",
              "        6.86871279e+10,  4.06216539e+11, -3.48420996e+10,  4.61637668e+10,\n",
              "        5.72152289e+10,  6.55650478e+11, -2.21797478e+11,  6.52127104e+11,\n",
              "       -9.93337008e+11,  8.41073278e+11,  1.89056254e+10, -5.00699113e+08,\n",
              "        6.64997789e+10, -6.12158177e+10, -1.71913694e+11])"
            ]
          },
          "metadata": {},
          "execution_count": 110
        }
      ]
    },
    {
      "cell_type": "code",
      "source": [
        "regr_poly_L2_3.intercept_"
      ],
      "metadata": {
        "colab": {
          "base_uri": "https://localhost:8080/"
        },
        "outputId": "d1226df5-efd0-45ca-9f3d-ea6421674a39",
        "id": "A9tDdUgURDaD"
      },
      "execution_count": 111,
      "outputs": [
        {
          "output_type": "execute_result",
          "data": {
            "text/plain": [
              "array([5.6491992e+09])"
            ]
          },
          "metadata": {},
          "execution_count": 111
        }
      ]
    },
    {
      "cell_type": "code",
      "source": [
        "preds_train_poly_L2_3 = regr_poly_L2_3.predict(X_train_poly_L2_3)\n",
        "preds_test_poly_L2_3 = regr_poly_L2_3.predict(X_test_poly_L2_3)"
      ],
      "metadata": {
        "id": "xRGg_CzcRDaD"
      },
      "execution_count": 112,
      "outputs": []
    },
    {
      "cell_type": "code",
      "source": [
        "np.sqrt(mean_squared_error(Y_train_poly_L2_3, preds_train_poly_L2_3)), np.sqrt(mean_squared_error(Y_test_poly_L2_2, preds_test_poly_L2_3))"
      ],
      "metadata": {
        "colab": {
          "base_uri": "https://localhost:8080/"
        },
        "outputId": "48e1119c-01be-419c-e7db-dbf789b9bd62",
        "id": "ka3TA3cFRDaD"
      },
      "execution_count": 113,
      "outputs": [
        {
          "output_type": "execute_result",
          "data": {
            "text/plain": [
              "(1003815221419766.4, 1043436121294086.0)"
            ]
          },
          "metadata": {},
          "execution_count": 113
        }
      ]
    },
    {
      "cell_type": "markdown",
      "source": [
        "Ya aqui se pudo observar que la regularización en general no esta ayudando a disminuir el error, sino todo lo contrario\n"
      ],
      "metadata": {
        "id": "xcf2LVaBSSdE"
      }
    },
    {
      "cell_type": "markdown",
      "source": [
        "**Respuestas**\n",
        "1. Si fue posible disminuir el error de training utilizando una transformación a los features de grado 2 y 10, aunque en el de grado 10 disminuyo mas, fue a costo de que el error de testing aumentara un monton por lo cual se puede decir que estaba produciendoce overfitting, por lo tanto los hiperparametros que generaron el mejor modelo fue una transformación de grado 2 y sin usar regularización. A pesar de esto es un error muy alto y se deberia considerar cambiarse de un modelo lineal.\n",
        "2. En el caso de este modelo pareciera que el factor más influyente es el de si la persona es fumadora, puesto a que es la que tiene el peso más alto de la regresión con 23000, seguido de lejos de numero de hijos con 400."
      ],
      "metadata": {
        "id": "ev8fyLq1SfCK"
      }
    }
  ],
  "metadata": {
    "kernelspec": {
      "display_name": "Python 3 (ipykernel)",
      "language": "python",
      "name": "python3"
    },
    "language_info": {
      "codemirror_mode": {
        "name": "ipython",
        "version": 3
      },
      "file_extension": ".py",
      "mimetype": "text/x-python",
      "name": "python",
      "nbconvert_exporter": "python",
      "pygments_lexer": "ipython3",
      "version": "3.9.12"
    },
    "colab": {
      "provenance": [],
      "collapsed_sections": []
    }
  },
  "nbformat": 4,
  "nbformat_minor": 0
}